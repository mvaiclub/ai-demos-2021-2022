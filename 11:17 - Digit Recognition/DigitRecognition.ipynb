{
  "nbformat": 4,
  "nbformat_minor": 0,
  "metadata": {
    "colab": {
      "name": "Optimization.ipynb",
      "provenance": [],
      "collapsed_sections": []
    },
    "kernelspec": {
      "name": "python3",
      "display_name": "Python 3"
    }
  },
  "cells": [
    {
      "cell_type": "code",
      "metadata": {
        "id": "qA8RRs-yFGSx"
      },
      "source": [
        "from sklearn.datasets import load_digits\n",
        "X, y = load_digits(return_X_y = True) #Load the dataset"
      ],
      "execution_count": null,
      "outputs": []
    },
    {
      "cell_type": "code",
      "metadata": {
        "id": "uUSjvGWkFkbe"
      },
      "source": [
        "from sklearn.model_selection import train_test_split \n",
        "\n",
        "Xtrain, Xtest, ytrain, ytest = train_test_split(X, y, random_state = 1) #Split the ENTIRE Dataset into two categories - Train and Test\n",
        "Xtrain, Xval, ytrain, yval = train_test_split(Xtrain, ytrain) #Split the Training Set (split in previous line) into a smaller training set and an intermediate \"validation\" set"
      ],
      "execution_count": null,
      "outputs": []
    },
    {
      "cell_type": "code",
      "metadata": {
        "colab": {
          "base_uri": "https://localhost:8080/",
          "height": 368
        },
        "id": "LZdGAxEX3RVx",
        "outputId": "72ef765a-ea77-4bd9-b911-e6d7033c6256"
      },
      "source": [
        "'''\n",
        "Visualization of Data - Note: we skipped this because we all know what numbers look like & time reasons,\n",
        "but it is a Good Idea to do this!\n",
        "'''\n",
        "import numpy as np\n",
        "import matplotlib.pyplot as plt\n",
        "\n",
        "plt.figure(figsize=(20,4))\n",
        "for index, (image, label) in enumerate(zip(X[0:5], y[0:5])):\n",
        " plt.subplot(1, 5, index + 1)\n",
        " plt.imshow(np.reshape(image, (8,8)))\n",
        " plt.title('Training: %i\\n' % label, fontsize = 20)\n",
        "\n",
        "for i in range(5):\n",
        "  print(f'Answer to Image {i}: {y[i]}')\n"
      ],
      "execution_count": null,
      "outputs": [
        {
          "output_type": "stream",
          "text": [
            "Answer to Image 0: 0\n",
            "Answer to Image 1: 1\n",
            "Answer to Image 2: 2\n",
            "Answer to Image 3: 3\n",
            "Answer to Image 4: 4\n"
          ],
          "name": "stdout"
        },
        {
          "output_type": "display_data",
          "data": {
            "image/png": "[encoded data removed]",
            "text/plain": [
              "<Figure size 1440x288 with 5 Axes>"
            ]
          },
          "metadata": {
            "tags": [],
            "needs_background": "light"
          }
        }
      ]
    },
    {
      "cell_type": "code",
      "metadata": {
        "colab": {
          "base_uri": "https://localhost:8080/"
        },
        "id": "jpytjBYKGIpU",
        "outputId": "2215243c-abce-4502-c8f0-4ded3e2cbb7a"
      },
      "source": [
        "'''\n",
        "Hard way ... before Cross Validation - \n",
        "Brute Force a range of possibilities and use a BUUUNCH of variables to store the optimal parameters !! \n",
        "'''\n",
        "from sklearn.linear_model import LogisticRegression #Importing the model\n",
        "from sklearn.metrics import accuracy_score #Evaluation\n",
        "\n",
        "bestAcc = -1 #Define a global max to store the best parameters - accuracy and the C value which we are \"tuning\"\n",
        "bestC = 0\n",
        "\n",
        "for i in range(-20, 20):\n",
        "    model = LogisticRegression(C = 10**i, max_iter = 1000, solver='liblinear')\n",
        "    model.fit(Xtrain, ytrain) #Train on the training set\n",
        "\n",
        "    predY = model.predict(Xval) #Evaluate on a validation set\n",
        "    acc = accuracy_score(yval, predY)\n",
        "    if acc > bestAcc:\n",
        "        bestAcc = acc\n",
        "        bestC = 10 ** i\n",
        "\n",
        "#We find the best model depending on the Best Accuracy on Validation Set\n",
        "model = LogisticRegression( C = 10 ** bestC, max_iter=1000, solver='liblinear')\n",
        "model.fit(Xtrain, ytrain)\n",
        "\n",
        "#Then we evaluate the model on the last dataset - the test set (We can skip the validation set since we already use it to find the best model)\n",
        "predY = model.predict(Xtest)\n",
        "from sklearn.metrics import classification_report\n",
        "print('Results on the test set:')\n",
        "print(classification_report(ytest, predY))"
      ],
      "execution_count": null,
      "outputs": [
        {
          "output_type": "stream",
          "text": [
            "Results on the test set:\n",
            "              precision    recall  f1-score   support\n",
            "\n",
            "           0       1.00      0.96      0.98        53\n",
            "           1       0.98      0.98      0.98        42\n",
            "           2       1.00      0.95      0.97        41\n",
            "           3       0.98      0.94      0.96        52\n",
            "           4       0.92      1.00      0.96        47\n",
            "           5       0.93      0.95      0.94        39\n",
            "           6       1.00      1.00      1.00        43\n",
            "           7       1.00      0.96      0.98        48\n",
            "           8       0.95      0.97      0.96        37\n",
            "           9       0.92      0.96      0.94        48\n",
            "\n",
            "    accuracy                           0.97       450\n",
            "   macro avg       0.97      0.97      0.97       450\n",
            "weighted avg       0.97      0.97      0.97       450\n",
            "\n"
          ],
          "name": "stdout"
        }
      ]
    },
    {
      "cell_type": "code",
      "metadata": {
        "colab": {
          "base_uri": "https://localhost:8080/"
        },
        "id": "dPUwy6_NIEQ-",
        "outputId": "0c36f281-6cf6-4f75-f162-9096d9289d6f"
      },
      "source": [
        "'''\n",
        "Easy Method: K Fold Cross Validation\n",
        "'''\n",
        "from sklearn.model_selection import GridSearchCV #Cross Validation / Neural Network Tuning\n",
        "\n",
        "model = LogisticRegression(C = 100 , max_iter= 1000, solver='liblinear')\n",
        "parameters = {'C' : [10**i for i in range(-20,20)] } \n",
        "bestModel = GridSearchCV(model, parameters) \n",
        "bestModel.fit(Xtrain, ytrain) #Train / Search for the best \n",
        "print(bestModel.best_params_)"
      ],
      "execution_count": null,
      "outputs": [
        {
          "output_type": "stream",
          "text": [
            "{'C': 0.01}\n"
          ],
          "name": "stdout"
        }
      ]
    },
    {
      "cell_type": "code",
      "metadata": {
        "colab": {
          "base_uri": "https://localhost:8080/"
        },
        "id": "PGdUgO7KKNdi",
        "outputId": "e542a3c4-673b-4142-9fb6-83908e21d49f"
      },
      "source": [
        "'''\n",
        "Evaluating the best model from KFold\n",
        "Note: With KFold, we do NOT need an intermediate validation set to prevent overfitting. KFold already splits it into its own 'validation set'\n",
        "'''\n",
        "\n",
        "predY = bestModel.predict(Xtest)\n",
        "\n",
        "from sklearn.metrics import classification_report\n",
        "print('Results on the test set:')\n",
        "print(classification_report(ytest, predY))"
      ],
      "execution_count": null,
      "outputs": [
        {
          "output_type": "stream",
          "text": [
            "Results on the test set:\n",
            "              precision    recall  f1-score   support\n",
            "\n",
            "           0       0.98      0.98      0.98        53\n",
            "           1       1.00      0.95      0.98        42\n",
            "           2       0.98      1.00      0.99        41\n",
            "           3       1.00      0.94      0.97        52\n",
            "           4       0.96      1.00      0.98        47\n",
            "           5       0.90      0.95      0.92        39\n",
            "           6       0.98      1.00      0.99        43\n",
            "           7       0.98      0.98      0.98        48\n",
            "           8       0.97      0.92      0.94        37\n",
            "           9       0.94      0.96      0.95        48\n",
            "\n",
            "    accuracy                           0.97       450\n",
            "   macro avg       0.97      0.97      0.97       450\n",
            "weighted avg       0.97      0.97      0.97       450\n",
            "\n"
          ],
          "name": "stdout"
        }
      ]
    }
  ]
}